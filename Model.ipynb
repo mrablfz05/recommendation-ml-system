{
 "cells": [
  {
   "cell_type": "code",
   "execution_count": 1,
   "id": "d643db86-237a-46d9-a171-a8df026635ff",
   "metadata": {},
   "outputs": [],
   "source": [
    "import pandas as pd"
   ]
  },
  {
   "cell_type": "code",
   "execution_count": 7,
   "id": "424f7009-4d2e-4cf5-b050-6a2b575a9652",
   "metadata": {},
   "outputs": [
    {
     "data": {
      "text/html": [
       "<div>\n",
       "<style scoped>\n",
       "    .dataframe tbody tr th:only-of-type {\n",
       "        vertical-align: middle;\n",
       "    }\n",
       "\n",
       "    .dataframe tbody tr th {\n",
       "        vertical-align: top;\n",
       "    }\n",
       "\n",
       "    .dataframe thead th {\n",
       "        text-align: right;\n",
       "    }\n",
       "</style>\n",
       "<table border=\"1\" class=\"dataframe\">\n",
       "  <thead>\n",
       "    <tr style=\"text-align: right;\">\n",
       "      <th></th>\n",
       "      <th>artist</th>\n",
       "      <th>song</th>\n",
       "      <th>link</th>\n",
       "      <th>text</th>\n",
       "    </tr>\n",
       "  </thead>\n",
       "  <tbody>\n",
       "    <tr>\n",
       "      <th>0</th>\n",
       "      <td>ABBA</td>\n",
       "      <td>Ahe's My Kind Of Girl</td>\n",
       "      <td>/a/abba/ahes+my+kind+of+girl_20598417.html</td>\n",
       "      <td>Look at her face, it's a wonderful face  \\r\\nA...</td>\n",
       "    </tr>\n",
       "    <tr>\n",
       "      <th>1</th>\n",
       "      <td>ABBA</td>\n",
       "      <td>Andante, Andante</td>\n",
       "      <td>/a/abba/andante+andante_20002708.html</td>\n",
       "      <td>Take it easy with me, please  \\r\\nTouch me gen...</td>\n",
       "    </tr>\n",
       "    <tr>\n",
       "      <th>2</th>\n",
       "      <td>ABBA</td>\n",
       "      <td>As Good As New</td>\n",
       "      <td>/a/abba/as+good+as+new_20003033.html</td>\n",
       "      <td>I'll never know why I had to go  \\r\\nWhy I had...</td>\n",
       "    </tr>\n",
       "    <tr>\n",
       "      <th>3</th>\n",
       "      <td>ABBA</td>\n",
       "      <td>Bang</td>\n",
       "      <td>/a/abba/bang_20598415.html</td>\n",
       "      <td>Making somebody happy is a question of give an...</td>\n",
       "    </tr>\n",
       "    <tr>\n",
       "      <th>4</th>\n",
       "      <td>ABBA</td>\n",
       "      <td>Bang-A-Boomerang</td>\n",
       "      <td>/a/abba/bang+a+boomerang_20002668.html</td>\n",
       "      <td>Making somebody happy is a question of give an...</td>\n",
       "    </tr>\n",
       "    <tr>\n",
       "      <th>...</th>\n",
       "      <td>...</td>\n",
       "      <td>...</td>\n",
       "      <td>...</td>\n",
       "      <td>...</td>\n",
       "    </tr>\n",
       "    <tr>\n",
       "      <th>57645</th>\n",
       "      <td>Ziggy Marley</td>\n",
       "      <td>Good Old Days</td>\n",
       "      <td>/z/ziggy+marley/good+old+days_10198588.html</td>\n",
       "      <td>Irie days come on play  \\r\\nLet the angels fly...</td>\n",
       "    </tr>\n",
       "    <tr>\n",
       "      <th>57646</th>\n",
       "      <td>Ziggy Marley</td>\n",
       "      <td>Hand To Mouth</td>\n",
       "      <td>/z/ziggy+marley/hand+to+mouth_20531167.html</td>\n",
       "      <td>Power to the workers  \\r\\nMore power  \\r\\nPowe...</td>\n",
       "    </tr>\n",
       "    <tr>\n",
       "      <th>57647</th>\n",
       "      <td>Zwan</td>\n",
       "      <td>Come With Me</td>\n",
       "      <td>/z/zwan/come+with+me_20148981.html</td>\n",
       "      <td>all you need  \\r\\nis something i'll believe  \\...</td>\n",
       "    </tr>\n",
       "    <tr>\n",
       "      <th>57648</th>\n",
       "      <td>Zwan</td>\n",
       "      <td>Desire</td>\n",
       "      <td>/z/zwan/desire_20148986.html</td>\n",
       "      <td>northern star  \\r\\nam i frightened  \\r\\nwhere ...</td>\n",
       "    </tr>\n",
       "    <tr>\n",
       "      <th>57649</th>\n",
       "      <td>Zwan</td>\n",
       "      <td>Heartsong</td>\n",
       "      <td>/z/zwan/heartsong_20148991.html</td>\n",
       "      <td>come in  \\r\\nmake yourself at home  \\r\\ni'm a ...</td>\n",
       "    </tr>\n",
       "  </tbody>\n",
       "</table>\n",
       "<p>57650 rows × 4 columns</p>\n",
       "</div>"
      ],
      "text/plain": [
       "             artist                   song  \\\n",
       "0              ABBA  Ahe's My Kind Of Girl   \n",
       "1              ABBA       Andante, Andante   \n",
       "2              ABBA         As Good As New   \n",
       "3              ABBA                   Bang   \n",
       "4              ABBA       Bang-A-Boomerang   \n",
       "...             ...                    ...   \n",
       "57645  Ziggy Marley          Good Old Days   \n",
       "57646  Ziggy Marley          Hand To Mouth   \n",
       "57647          Zwan           Come With Me   \n",
       "57648          Zwan                 Desire   \n",
       "57649          Zwan              Heartsong   \n",
       "\n",
       "                                              link  \\\n",
       "0       /a/abba/ahes+my+kind+of+girl_20598417.html   \n",
       "1            /a/abba/andante+andante_20002708.html   \n",
       "2             /a/abba/as+good+as+new_20003033.html   \n",
       "3                       /a/abba/bang_20598415.html   \n",
       "4           /a/abba/bang+a+boomerang_20002668.html   \n",
       "...                                            ...   \n",
       "57645  /z/ziggy+marley/good+old+days_10198588.html   \n",
       "57646  /z/ziggy+marley/hand+to+mouth_20531167.html   \n",
       "57647           /z/zwan/come+with+me_20148981.html   \n",
       "57648                 /z/zwan/desire_20148986.html   \n",
       "57649              /z/zwan/heartsong_20148991.html   \n",
       "\n",
       "                                                    text  \n",
       "0      Look at her face, it's a wonderful face  \\r\\nA...  \n",
       "1      Take it easy with me, please  \\r\\nTouch me gen...  \n",
       "2      I'll never know why I had to go  \\r\\nWhy I had...  \n",
       "3      Making somebody happy is a question of give an...  \n",
       "4      Making somebody happy is a question of give an...  \n",
       "...                                                  ...  \n",
       "57645  Irie days come on play  \\r\\nLet the angels fly...  \n",
       "57646  Power to the workers  \\r\\nMore power  \\r\\nPowe...  \n",
       "57647  all you need  \\r\\nis something i'll believe  \\...  \n",
       "57648  northern star  \\r\\nam i frightened  \\r\\nwhere ...  \n",
       "57649  come in  \\r\\nmake yourself at home  \\r\\ni'm a ...  \n",
       "\n",
       "[57650 rows x 4 columns]"
      ]
     },
     "execution_count": 7,
     "metadata": {},
     "output_type": "execute_result"
    }
   ],
   "source": [
    "pd.read_csv(\"spotify_millsongdata.csv\")"
   ]
  },
  {
   "cell_type": "code",
   "execution_count": 8,
   "id": "a759dac3-385e-49d4-b6b1-3e9e151f7bc5",
   "metadata": {},
   "outputs": [],
   "source": [
    "df = pd.read_csv(\"spotify_millsongdata.csv\")"
   ]
  },
  {
   "cell_type": "code",
   "execution_count": 9,
   "id": "80590768-369f-425c-86ab-710df1c5b630",
   "metadata": {},
   "outputs": [
    {
     "data": {
      "text/html": [
       "<div>\n",
       "<style scoped>\n",
       "    .dataframe tbody tr th:only-of-type {\n",
       "        vertical-align: middle;\n",
       "    }\n",
       "\n",
       "    .dataframe tbody tr th {\n",
       "        vertical-align: top;\n",
       "    }\n",
       "\n",
       "    .dataframe thead th {\n",
       "        text-align: right;\n",
       "    }\n",
       "</style>\n",
       "<table border=\"1\" class=\"dataframe\">\n",
       "  <thead>\n",
       "    <tr style=\"text-align: right;\">\n",
       "      <th></th>\n",
       "      <th>artist</th>\n",
       "      <th>song</th>\n",
       "      <th>link</th>\n",
       "      <th>text</th>\n",
       "    </tr>\n",
       "  </thead>\n",
       "  <tbody>\n",
       "    <tr>\n",
       "      <th>0</th>\n",
       "      <td>ABBA</td>\n",
       "      <td>Ahe's My Kind Of Girl</td>\n",
       "      <td>/a/abba/ahes+my+kind+of+girl_20598417.html</td>\n",
       "      <td>Look at her face, it's a wonderful face  \\r\\nA...</td>\n",
       "    </tr>\n",
       "    <tr>\n",
       "      <th>1</th>\n",
       "      <td>ABBA</td>\n",
       "      <td>Andante, Andante</td>\n",
       "      <td>/a/abba/andante+andante_20002708.html</td>\n",
       "      <td>Take it easy with me, please  \\r\\nTouch me gen...</td>\n",
       "    </tr>\n",
       "    <tr>\n",
       "      <th>2</th>\n",
       "      <td>ABBA</td>\n",
       "      <td>As Good As New</td>\n",
       "      <td>/a/abba/as+good+as+new_20003033.html</td>\n",
       "      <td>I'll never know why I had to go  \\r\\nWhy I had...</td>\n",
       "    </tr>\n",
       "    <tr>\n",
       "      <th>3</th>\n",
       "      <td>ABBA</td>\n",
       "      <td>Bang</td>\n",
       "      <td>/a/abba/bang_20598415.html</td>\n",
       "      <td>Making somebody happy is a question of give an...</td>\n",
       "    </tr>\n",
       "    <tr>\n",
       "      <th>4</th>\n",
       "      <td>ABBA</td>\n",
       "      <td>Bang-A-Boomerang</td>\n",
       "      <td>/a/abba/bang+a+boomerang_20002668.html</td>\n",
       "      <td>Making somebody happy is a question of give an...</td>\n",
       "    </tr>\n",
       "  </tbody>\n",
       "</table>\n",
       "</div>"
      ],
      "text/plain": [
       "  artist                   song                                        link  \\\n",
       "0   ABBA  Ahe's My Kind Of Girl  /a/abba/ahes+my+kind+of+girl_20598417.html   \n",
       "1   ABBA       Andante, Andante       /a/abba/andante+andante_20002708.html   \n",
       "2   ABBA         As Good As New        /a/abba/as+good+as+new_20003033.html   \n",
       "3   ABBA                   Bang                  /a/abba/bang_20598415.html   \n",
       "4   ABBA       Bang-A-Boomerang      /a/abba/bang+a+boomerang_20002668.html   \n",
       "\n",
       "                                                text  \n",
       "0  Look at her face, it's a wonderful face  \\r\\nA...  \n",
       "1  Take it easy with me, please  \\r\\nTouch me gen...  \n",
       "2  I'll never know why I had to go  \\r\\nWhy I had...  \n",
       "3  Making somebody happy is a question of give an...  \n",
       "4  Making somebody happy is a question of give an...  "
      ]
     },
     "execution_count": 9,
     "metadata": {},
     "output_type": "execute_result"
    }
   ],
   "source": [
    "df.head(5)"
   ]
  },
  {
   "cell_type": "code",
   "execution_count": 10,
   "id": "820a6211-aa7f-4643-bb10-c872343b07d7",
   "metadata": {},
   "outputs": [
    {
     "ename": "TypeError",
     "evalue": "'tuple' object is not callable",
     "output_type": "error",
     "traceback": [
      "\u001b[1;31m---------------------------------------------------------------------------\u001b[0m",
      "\u001b[1;31mTypeError\u001b[0m                                 Traceback (most recent call last)",
      "Cell \u001b[1;32mIn[10], line 1\u001b[0m\n\u001b[1;32m----> 1\u001b[0m df\u001b[38;5;241m.\u001b[39mshape()\n",
      "\u001b[1;31mTypeError\u001b[0m: 'tuple' object is not callable"
     ]
    }
   ],
   "source": [
    "df.shape()"
   ]
  },
  {
   "cell_type": "code",
   "execution_count": 11,
   "id": "60f2eed6-5e95-46f1-9c51-5fb465c5177c",
   "metadata": {},
   "outputs": [
    {
     "data": {
      "text/plain": [
       "(57650, 4)"
      ]
     },
     "execution_count": 11,
     "metadata": {},
     "output_type": "execute_result"
    }
   ],
   "source": [
    "df.shape"
   ]
  },
  {
   "cell_type": "code",
   "execution_count": 12,
   "id": "e820cad7-e2de-4007-8a93-ad234b710d15",
   "metadata": {},
   "outputs": [
    {
     "data": {
      "text/plain": [
       "artist    0\n",
       "song      0\n",
       "link      0\n",
       "text      0\n",
       "dtype: int64"
      ]
     },
     "execution_count": 12,
     "metadata": {},
     "output_type": "execute_result"
    }
   ],
   "source": [
    "df.isnull().sum()"
   ]
  },
  {
   "cell_type": "code",
   "execution_count": 13,
   "id": "e5b995c0-e149-45f1-8677-7e18bc120d18",
   "metadata": {},
   "outputs": [
    {
     "ename": "NameError",
     "evalue": "name 'true' is not defined",
     "output_type": "error",
     "traceback": [
      "\u001b[1;31m---------------------------------------------------------------------------\u001b[0m",
      "\u001b[1;31mNameError\u001b[0m                                 Traceback (most recent call last)",
      "Cell \u001b[1;32mIn[13], line 1\u001b[0m\n\u001b[1;32m----> 1\u001b[0m df \u001b[38;5;241m=\u001b[39mdf\u001b[38;5;241m.\u001b[39mdrop(\u001b[38;5;124m'\u001b[39m\u001b[38;5;124mlink\u001b[39m\u001b[38;5;124m'\u001b[39m, axis\u001b[38;5;241m=\u001b[39m\u001b[38;5;241m1\u001b[39m)\u001b[38;5;241m.\u001b[39mreset_index(drop\u001b[38;5;241m=\u001b[39mtrue)\n",
      "\u001b[1;31mNameError\u001b[0m: name 'true' is not defined"
     ]
    }
   ],
   "source": [
    "df =df.drop('link', axis=1).reset_index(drop=true)"
   ]
  },
  {
   "cell_type": "code",
   "execution_count": 14,
   "id": "8a2ee438-ec9b-4c16-b411-48156c8073c4",
   "metadata": {},
   "outputs": [
    {
     "data": {
      "text/html": [
       "<div>\n",
       "<style scoped>\n",
       "    .dataframe tbody tr th:only-of-type {\n",
       "        vertical-align: middle;\n",
       "    }\n",
       "\n",
       "    .dataframe tbody tr th {\n",
       "        vertical-align: top;\n",
       "    }\n",
       "\n",
       "    .dataframe thead th {\n",
       "        text-align: right;\n",
       "    }\n",
       "</style>\n",
       "<table border=\"1\" class=\"dataframe\">\n",
       "  <thead>\n",
       "    <tr style=\"text-align: right;\">\n",
       "      <th></th>\n",
       "      <th>artist</th>\n",
       "      <th>song</th>\n",
       "      <th>link</th>\n",
       "      <th>text</th>\n",
       "    </tr>\n",
       "  </thead>\n",
       "  <tbody>\n",
       "  </tbody>\n",
       "</table>\n",
       "</div>"
      ],
      "text/plain": [
       "Empty DataFrame\n",
       "Columns: [artist, song, link, text]\n",
       "Index: []"
      ]
     },
     "execution_count": 14,
     "metadata": {},
     "output_type": "execute_result"
    }
   ],
   "source": [
    "df.head(0)"
   ]
  },
  {
   "cell_type": "code",
   "execution_count": 15,
   "id": "9c9f7c07-1982-4c6d-b422-878ea926db18",
   "metadata": {},
   "outputs": [],
   "source": [
    "df = df.sample(5000).drop('link', axis=1).reset_index(drop=True)"
   ]
  },
  {
   "cell_type": "code",
   "execution_count": 16,
   "id": "30c6fb80-e774-40a0-9900-c424f5ed2cc3",
   "metadata": {},
   "outputs": [
    {
     "data": {
      "text/html": [
       "<div>\n",
       "<style scoped>\n",
       "    .dataframe tbody tr th:only-of-type {\n",
       "        vertical-align: middle;\n",
       "    }\n",
       "\n",
       "    .dataframe tbody tr th {\n",
       "        vertical-align: top;\n",
       "    }\n",
       "\n",
       "    .dataframe thead th {\n",
       "        text-align: right;\n",
       "    }\n",
       "</style>\n",
       "<table border=\"1\" class=\"dataframe\">\n",
       "  <thead>\n",
       "    <tr style=\"text-align: right;\">\n",
       "      <th></th>\n",
       "      <th>artist</th>\n",
       "      <th>song</th>\n",
       "      <th>text</th>\n",
       "    </tr>\n",
       "  </thead>\n",
       "  <tbody>\n",
       "    <tr>\n",
       "      <th>0</th>\n",
       "      <td>Frank Zappa</td>\n",
       "      <td>Does This Kind Of Life Look Interesting To You?</td>\n",
       "      <td>Dee-goo-pee-oo-poo  \\r\\nTa-dan!  \\r\\n  \\r\\nBad...</td>\n",
       "    </tr>\n",
       "    <tr>\n",
       "      <th>1</th>\n",
       "      <td>Moody Blues</td>\n",
       "      <td>In The Beginning</td>\n",
       "      <td>[First Man:] I think, I think I am, therefore ...</td>\n",
       "    </tr>\n",
       "    <tr>\n",
       "      <th>2</th>\n",
       "      <td>King Crimson</td>\n",
       "      <td>Formentera Lady</td>\n",
       "      <td>Houses iced in whitewash guard a pale shore-li...</td>\n",
       "    </tr>\n",
       "    <tr>\n",
       "      <th>3</th>\n",
       "      <td>Sia</td>\n",
       "      <td>Rewrite</td>\n",
       "      <td>You don't, know me  \\r\\nYou can't, hold me  \\r...</td>\n",
       "    </tr>\n",
       "    <tr>\n",
       "      <th>4</th>\n",
       "      <td>Tom Jones</td>\n",
       "      <td>I'm Counting On You</td>\n",
       "      <td>The night is so wild  \\r\\nAnd downstairs the c...</td>\n",
       "    </tr>\n",
       "    <tr>\n",
       "      <th>5</th>\n",
       "      <td>Frank Sinatra</td>\n",
       "      <td>Both Sides, Now</td>\n",
       "      <td>Rows and flows of angel hair  \\r\\nAnd ice crea...</td>\n",
       "    </tr>\n",
       "    <tr>\n",
       "      <th>6</th>\n",
       "      <td>Michael W. Smith</td>\n",
       "      <td>Live And Learn</td>\n",
       "      <td>Never should have tasted that forbidden fruit ...</td>\n",
       "    </tr>\n",
       "    <tr>\n",
       "      <th>7</th>\n",
       "      <td>Alabama</td>\n",
       "      <td>Keep On Dreamin'</td>\n",
       "      <td>Words and Music by Jeff Cook and Richard Scott...</td>\n",
       "    </tr>\n",
       "    <tr>\n",
       "      <th>8</th>\n",
       "      <td>Ozzy Osbourne</td>\n",
       "      <td>Killer Of Giants</td>\n",
       "      <td>If none of us believe in war  \\r\\nThen can you...</td>\n",
       "    </tr>\n",
       "    <tr>\n",
       "      <th>9</th>\n",
       "      <td>UB40</td>\n",
       "      <td>Oracabessa Moonshine</td>\n",
       "      <td>Oracabessa moonshine  \\r\\nIs washing over me  ...</td>\n",
       "    </tr>\n",
       "  </tbody>\n",
       "</table>\n",
       "</div>"
      ],
      "text/plain": [
       "             artist                                             song  \\\n",
       "0       Frank Zappa  Does This Kind Of Life Look Interesting To You?   \n",
       "1       Moody Blues                                 In The Beginning   \n",
       "2      King Crimson                                  Formentera Lady   \n",
       "3               Sia                                          Rewrite   \n",
       "4         Tom Jones                              I'm Counting On You   \n",
       "5     Frank Sinatra                                  Both Sides, Now   \n",
       "6  Michael W. Smith                                   Live And Learn   \n",
       "7           Alabama                                 Keep On Dreamin'   \n",
       "8     Ozzy Osbourne                                 Killer Of Giants   \n",
       "9              UB40                             Oracabessa Moonshine   \n",
       "\n",
       "                                                text  \n",
       "0  Dee-goo-pee-oo-poo  \\r\\nTa-dan!  \\r\\n  \\r\\nBad...  \n",
       "1  [First Man:] I think, I think I am, therefore ...  \n",
       "2  Houses iced in whitewash guard a pale shore-li...  \n",
       "3  You don't, know me  \\r\\nYou can't, hold me  \\r...  \n",
       "4  The night is so wild  \\r\\nAnd downstairs the c...  \n",
       "5  Rows and flows of angel hair  \\r\\nAnd ice crea...  \n",
       "6  Never should have tasted that forbidden fruit ...  \n",
       "7  Words and Music by Jeff Cook and Richard Scott...  \n",
       "8  If none of us believe in war  \\r\\nThen can you...  \n",
       "9  Oracabessa moonshine  \\r\\nIs washing over me  ...  "
      ]
     },
     "execution_count": 16,
     "metadata": {},
     "output_type": "execute_result"
    }
   ],
   "source": [
    "df.head(10)"
   ]
  },
  {
   "cell_type": "code",
   "execution_count": 17,
   "id": "a13975bc-88ac-46ab-a98b-f5fdd464a9db",
   "metadata": {},
   "outputs": [
    {
     "data": {
      "text/plain": [
       "\"[First Man:] I think, I think I am, therefore I am, I think.  \\r\\n[Establishment:] Of course you are my bright little star,  \\r\\nI've miles  \\r\\nAnd miles  \\r\\nOf files  \\r\\nPretty files of your forefather's fruit  \\r\\nAnd now to suit our  \\r\\nGreat computer,  \\r\\nYou're magnetic ink.  \\r\\n  \\r\\n[First Man:] I'm more than that, I know I am, at least, I think I must be.  \\r\\n[Inner Man:] There you go man, keep as cool as you can.  \\r\\nFace piles  \\r\\nAnd piles  \\r\\nOf trials  \\r\\nWith smiles.  \\r\\nIt riles them to believe  \\r\\nThat you perceive  \\r\\nThe web they weave  \\r\\nAnd keep on thinking free.\\r\\n\\r\\n\""
      ]
     },
     "execution_count": 17,
     "metadata": {},
     "output_type": "execute_result"
    }
   ],
   "source": [
    "df[\"text\"][1]"
   ]
  },
  {
   "cell_type": "code",
   "execution_count": 18,
   "id": "0b4fac86-d851-4e76-8184-5d044a68b8f5",
   "metadata": {},
   "outputs": [
    {
     "data": {
      "text/html": [
       "<div>\n",
       "<style scoped>\n",
       "    .dataframe tbody tr th:only-of-type {\n",
       "        vertical-align: middle;\n",
       "    }\n",
       "\n",
       "    .dataframe tbody tr th {\n",
       "        vertical-align: top;\n",
       "    }\n",
       "\n",
       "    .dataframe thead th {\n",
       "        text-align: right;\n",
       "    }\n",
       "</style>\n",
       "<table border=\"1\" class=\"dataframe\">\n",
       "  <thead>\n",
       "    <tr style=\"text-align: right;\">\n",
       "      <th></th>\n",
       "      <th>artist</th>\n",
       "      <th>song</th>\n",
       "      <th>text</th>\n",
       "    </tr>\n",
       "  </thead>\n",
       "  <tbody>\n",
       "    <tr>\n",
       "      <th>3519</th>\n",
       "      <td>Bryan White</td>\n",
       "      <td>Two In A Million</td>\n",
       "      <td>In a world of illusion  \\r\\nFilled with wrong ...</td>\n",
       "    </tr>\n",
       "    <tr>\n",
       "      <th>440</th>\n",
       "      <td>Widespread Panic</td>\n",
       "      <td>Driving Song</td>\n",
       "      <td>The leaves seen through my window pane  \\r\\nRe...</td>\n",
       "    </tr>\n",
       "    <tr>\n",
       "      <th>2204</th>\n",
       "      <td>Glee</td>\n",
       "      <td>I Dreamed A Dream</td>\n",
       "      <td>I dreamed a dream in times gone by  \\r\\nWhen h...</td>\n",
       "    </tr>\n",
       "    <tr>\n",
       "      <th>1058</th>\n",
       "      <td>Yazoo</td>\n",
       "      <td>Good Times</td>\n",
       "      <td>Sometimes I feel,  \\r\\nI'll never belong  \\r\\n...</td>\n",
       "    </tr>\n",
       "    <tr>\n",
       "      <th>4331</th>\n",
       "      <td>NOFX</td>\n",
       "      <td>I Want You To Want Me</td>\n",
       "      <td>[Originally by Cheap Trick]  \\r\\n  \\r\\nI want ...</td>\n",
       "    </tr>\n",
       "    <tr>\n",
       "      <th>...</th>\n",
       "      <td>...</td>\n",
       "      <td>...</td>\n",
       "      <td>...</td>\n",
       "    </tr>\n",
       "    <tr>\n",
       "      <th>1484</th>\n",
       "      <td>Jimmy Buffett</td>\n",
       "      <td>Baby's Gone Shoppin'</td>\n",
       "      <td>Baby's gone shoppin' she's lookin' around  \\r\\...</td>\n",
       "    </tr>\n",
       "    <tr>\n",
       "      <th>1169</th>\n",
       "      <td>Judas Priest</td>\n",
       "      <td>The Green Manalishi</td>\n",
       "      <td>Now when the day goes to sleep and the full mo...</td>\n",
       "    </tr>\n",
       "    <tr>\n",
       "      <th>1818</th>\n",
       "      <td>Erik Santos</td>\n",
       "      <td>This Song Is For You</td>\n",
       "      <td>If only a song could capture a memory  \\r\\nI w...</td>\n",
       "    </tr>\n",
       "    <tr>\n",
       "      <th>3178</th>\n",
       "      <td>Ultravox</td>\n",
       "      <td>Love's Great Adventure</td>\n",
       "      <td>Standing on my own  \\r\\nIt didn't mean that mu...</td>\n",
       "    </tr>\n",
       "    <tr>\n",
       "      <th>2430</th>\n",
       "      <td>Nick Drake</td>\n",
       "      <td>Phaedra's Meadow</td>\n",
       "      <td>I was walking thru the forest  \\r\\nOne cold an...</td>\n",
       "    </tr>\n",
       "  </tbody>\n",
       "</table>\n",
       "<p>5000 rows × 3 columns</p>\n",
       "</div>"
      ],
      "text/plain": [
       "                artist                    song  \\\n",
       "3519       Bryan White        Two In A Million   \n",
       "440   Widespread Panic            Driving Song   \n",
       "2204              Glee       I Dreamed A Dream   \n",
       "1058             Yazoo              Good Times   \n",
       "4331              NOFX   I Want You To Want Me   \n",
       "...                ...                     ...   \n",
       "1484     Jimmy Buffett    Baby's Gone Shoppin'   \n",
       "1169      Judas Priest     The Green Manalishi   \n",
       "1818       Erik Santos    This Song Is For You   \n",
       "3178          Ultravox  Love's Great Adventure   \n",
       "2430        Nick Drake        Phaedra's Meadow   \n",
       "\n",
       "                                                   text  \n",
       "3519  In a world of illusion  \\r\\nFilled with wrong ...  \n",
       "440   The leaves seen through my window pane  \\r\\nRe...  \n",
       "2204  I dreamed a dream in times gone by  \\r\\nWhen h...  \n",
       "1058  Sometimes I feel,  \\r\\nI'll never belong  \\r\\n...  \n",
       "4331  [Originally by Cheap Trick]  \\r\\n  \\r\\nI want ...  \n",
       "...                                                 ...  \n",
       "1484  Baby's gone shoppin' she's lookin' around  \\r\\...  \n",
       "1169  Now when the day goes to sleep and the full mo...  \n",
       "1818  If only a song could capture a memory  \\r\\nI w...  \n",
       "3178  Standing on my own  \\r\\nIt didn't mean that mu...  \n",
       "2430  I was walking thru the forest  \\r\\nOne cold an...  \n",
       "\n",
       "[5000 rows x 3 columns]"
      ]
     },
     "execution_count": 18,
     "metadata": {},
     "output_type": "execute_result"
    }
   ],
   "source": [
    "df.sample(5000)"
   ]
  },
  {
   "cell_type": "code",
   "execution_count": null,
   "id": "6c763041-c746-4b53-9263-4be4fadafc8a",
   "metadata": {},
   "outputs": [],
   "source": []
  },
  {
   "cell_type": "code",
   "execution_count": null,
   "id": "06004de0-7464-4fac-b35d-35c48d4a9daf",
   "metadata": {},
   "outputs": [],
   "source": []
  },
  {
   "cell_type": "code",
   "execution_count": 19,
   "id": "81c1b765-7910-4093-b1db-42be5de6c5e6",
   "metadata": {},
   "outputs": [
    {
     "data": {
      "text/plain": [
       "(5000, 3)"
      ]
     },
     "execution_count": 19,
     "metadata": {},
     "output_type": "execute_result"
    }
   ],
   "source": [
    "df.shape"
   ]
  },
  {
   "cell_type": "markdown",
   "id": "a5150f05-45b7-409d-a3b0-f4646aabab64",
   "metadata": {},
   "source": [
    "Text Processing / Cleaning"
   ]
  },
  {
   "cell_type": "code",
   "execution_count": 20,
   "id": "b1321f99-9aea-499e-b16e-329c38fa2586",
   "metadata": {},
   "outputs": [
    {
     "data": {
      "text/plain": [
       "0       dee-goo-pee-oo-poo  \\r ta-dan!  \\r   \\r bad co...\n",
       "1       [first man:] i think, i think i am, therefore ...\n",
       "2       houses iced in whitewash guard a pale shore-li...\n",
       "3       you don't, know me  \\r you can't, hold me  \\r ...\n",
       "4       the night is so wild  \\r and downstairs the ch...\n",
       "                              ...                        \n",
       "4995    where you gonna run  \\r where you gonna hide  ...\n",
       "4996    if i gave you my heart  \\r where would you be ...\n",
       "4997    baby, you got me sick  \\r i don't know what i ...\n",
       "4998    ah! it's just another wasted mornin'  \\r while...\n",
       "4999    [repeat: x4]  \\r mm mm  \\r   \\r some humans ai...\n",
       "Name: text, Length: 5000, dtype: object"
      ]
     },
     "execution_count": 20,
     "metadata": {},
     "output_type": "execute_result"
    }
   ],
   "source": [
    "df[\"text\"].str.lower().replace(r'^\\w\\s', ' ').replace(r'\\n', ' ', regex=True)"
   ]
  },
  {
   "cell_type": "code",
   "execution_count": 21,
   "id": "245fe2f5-cb9d-4c56-a607-247335292e84",
   "metadata": {},
   "outputs": [],
   "source": [
    "df['text']=df[\"text\"].str.lower().replace(r'^\\w\\s', ' ').replace(r'\\n', ' ', regex=True)"
   ]
  },
  {
   "cell_type": "code",
   "execution_count": 22,
   "id": "277e77c5-5204-4499-a358-a19c93e73153",
   "metadata": {},
   "outputs": [
    {
     "data": {
      "text/html": [
       "<div>\n",
       "<style scoped>\n",
       "    .dataframe tbody tr th:only-of-type {\n",
       "        vertical-align: middle;\n",
       "    }\n",
       "\n",
       "    .dataframe tbody tr th {\n",
       "        vertical-align: top;\n",
       "    }\n",
       "\n",
       "    .dataframe thead th {\n",
       "        text-align: right;\n",
       "    }\n",
       "</style>\n",
       "<table border=\"1\" class=\"dataframe\">\n",
       "  <thead>\n",
       "    <tr style=\"text-align: right;\">\n",
       "      <th></th>\n",
       "      <th>artist</th>\n",
       "      <th>song</th>\n",
       "      <th>text</th>\n",
       "    </tr>\n",
       "  </thead>\n",
       "  <tbody>\n",
       "    <tr>\n",
       "      <th>4995</th>\n",
       "      <td>Peter Tosh</td>\n",
       "      <td>Where You Gonna Run</td>\n",
       "      <td>where you gonna run  \\r where you gonna hide  ...</td>\n",
       "    </tr>\n",
       "    <tr>\n",
       "      <th>4996</th>\n",
       "      <td>Ocean Colour Scene</td>\n",
       "      <td>If I Gave You My Heart</td>\n",
       "      <td>if i gave you my heart  \\r where would you be ...</td>\n",
       "    </tr>\n",
       "    <tr>\n",
       "      <th>4997</th>\n",
       "      <td>One Direction</td>\n",
       "      <td>Heart Attack</td>\n",
       "      <td>baby, you got me sick  \\r i don't know what i ...</td>\n",
       "    </tr>\n",
       "    <tr>\n",
       "      <th>4998</th>\n",
       "      <td>Waylon Jennings</td>\n",
       "      <td>I'll Find It Where I Can</td>\n",
       "      <td>ah! it's just another wasted mornin'  \\r while...</td>\n",
       "    </tr>\n",
       "    <tr>\n",
       "      <th>4999</th>\n",
       "      <td>John Prine</td>\n",
       "      <td>Some Humans Ain't Human</td>\n",
       "      <td>[repeat: x4]  \\r mm mm  \\r   \\r some humans ai...</td>\n",
       "    </tr>\n",
       "  </tbody>\n",
       "</table>\n",
       "</div>"
      ],
      "text/plain": [
       "                  artist                      song  \\\n",
       "4995          Peter Tosh       Where You Gonna Run   \n",
       "4996  Ocean Colour Scene    If I Gave You My Heart   \n",
       "4997       One Direction              Heart Attack   \n",
       "4998     Waylon Jennings  I'll Find It Where I Can   \n",
       "4999          John Prine   Some Humans Ain't Human   \n",
       "\n",
       "                                                   text  \n",
       "4995  where you gonna run  \\r where you gonna hide  ...  \n",
       "4996  if i gave you my heart  \\r where would you be ...  \n",
       "4997  baby, you got me sick  \\r i don't know what i ...  \n",
       "4998  ah! it's just another wasted mornin'  \\r while...  \n",
       "4999  [repeat: x4]  \\r mm mm  \\r   \\r some humans ai...  "
      ]
     },
     "execution_count": 22,
     "metadata": {},
     "output_type": "execute_result"
    }
   ],
   "source": [
    "df.tail(5)"
   ]
  },
  {
   "cell_type": "code",
   "execution_count": 23,
   "id": "08c4066a-1688-4e78-8290-ff494db7c741",
   "metadata": {},
   "outputs": [
    {
     "data": {
      "text/html": [
       "<div>\n",
       "<style scoped>\n",
       "    .dataframe tbody tr th:only-of-type {\n",
       "        vertical-align: middle;\n",
       "    }\n",
       "\n",
       "    .dataframe tbody tr th {\n",
       "        vertical-align: top;\n",
       "    }\n",
       "\n",
       "    .dataframe thead th {\n",
       "        text-align: right;\n",
       "    }\n",
       "</style>\n",
       "<table border=\"1\" class=\"dataframe\">\n",
       "  <thead>\n",
       "    <tr style=\"text-align: right;\">\n",
       "      <th></th>\n",
       "      <th>artist</th>\n",
       "      <th>song</th>\n",
       "      <th>text</th>\n",
       "    </tr>\n",
       "  </thead>\n",
       "  <tbody>\n",
       "    <tr>\n",
       "      <th>0</th>\n",
       "      <td>Frank Zappa</td>\n",
       "      <td>Does This Kind Of Life Look Interesting To You?</td>\n",
       "      <td>dee-goo-pee-oo-poo  \\r ta-dan!  \\r   \\r bad co...</td>\n",
       "    </tr>\n",
       "    <tr>\n",
       "      <th>1</th>\n",
       "      <td>Moody Blues</td>\n",
       "      <td>In The Beginning</td>\n",
       "      <td>[first man:] i think, i think i am, therefore ...</td>\n",
       "    </tr>\n",
       "    <tr>\n",
       "      <th>2</th>\n",
       "      <td>King Crimson</td>\n",
       "      <td>Formentera Lady</td>\n",
       "      <td>houses iced in whitewash guard a pale shore-li...</td>\n",
       "    </tr>\n",
       "    <tr>\n",
       "      <th>3</th>\n",
       "      <td>Sia</td>\n",
       "      <td>Rewrite</td>\n",
       "      <td>you don't, know me  \\r you can't, hold me  \\r ...</td>\n",
       "    </tr>\n",
       "    <tr>\n",
       "      <th>4</th>\n",
       "      <td>Tom Jones</td>\n",
       "      <td>I'm Counting On You</td>\n",
       "      <td>the night is so wild  \\r and downstairs the ch...</td>\n",
       "    </tr>\n",
       "    <tr>\n",
       "      <th>...</th>\n",
       "      <td>...</td>\n",
       "      <td>...</td>\n",
       "      <td>...</td>\n",
       "    </tr>\n",
       "    <tr>\n",
       "      <th>4995</th>\n",
       "      <td>Peter Tosh</td>\n",
       "      <td>Where You Gonna Run</td>\n",
       "      <td>where you gonna run  \\r where you gonna hide  ...</td>\n",
       "    </tr>\n",
       "    <tr>\n",
       "      <th>4996</th>\n",
       "      <td>Ocean Colour Scene</td>\n",
       "      <td>If I Gave You My Heart</td>\n",
       "      <td>if i gave you my heart  \\r where would you be ...</td>\n",
       "    </tr>\n",
       "    <tr>\n",
       "      <th>4997</th>\n",
       "      <td>One Direction</td>\n",
       "      <td>Heart Attack</td>\n",
       "      <td>baby, you got me sick  \\r i don't know what i ...</td>\n",
       "    </tr>\n",
       "    <tr>\n",
       "      <th>4998</th>\n",
       "      <td>Waylon Jennings</td>\n",
       "      <td>I'll Find It Where I Can</td>\n",
       "      <td>ah! it's just another wasted mornin'  \\r while...</td>\n",
       "    </tr>\n",
       "    <tr>\n",
       "      <th>4999</th>\n",
       "      <td>John Prine</td>\n",
       "      <td>Some Humans Ain't Human</td>\n",
       "      <td>[repeat: x4]  \\r mm mm  \\r   \\r some humans ai...</td>\n",
       "    </tr>\n",
       "  </tbody>\n",
       "</table>\n",
       "<p>5000 rows × 3 columns</p>\n",
       "</div>"
      ],
      "text/plain": [
       "                  artist                                             song  \\\n",
       "0            Frank Zappa  Does This Kind Of Life Look Interesting To You?   \n",
       "1            Moody Blues                                 In The Beginning   \n",
       "2           King Crimson                                  Formentera Lady   \n",
       "3                    Sia                                          Rewrite   \n",
       "4              Tom Jones                              I'm Counting On You   \n",
       "...                  ...                                              ...   \n",
       "4995          Peter Tosh                              Where You Gonna Run   \n",
       "4996  Ocean Colour Scene                           If I Gave You My Heart   \n",
       "4997       One Direction                                     Heart Attack   \n",
       "4998     Waylon Jennings                         I'll Find It Where I Can   \n",
       "4999          John Prine                          Some Humans Ain't Human   \n",
       "\n",
       "                                                   text  \n",
       "0     dee-goo-pee-oo-poo  \\r ta-dan!  \\r   \\r bad co...  \n",
       "1     [first man:] i think, i think i am, therefore ...  \n",
       "2     houses iced in whitewash guard a pale shore-li...  \n",
       "3     you don't, know me  \\r you can't, hold me  \\r ...  \n",
       "4     the night is so wild  \\r and downstairs the ch...  \n",
       "...                                                 ...  \n",
       "4995  where you gonna run  \\r where you gonna hide  ...  \n",
       "4996  if i gave you my heart  \\r where would you be ...  \n",
       "4997  baby, you got me sick  \\r i don't know what i ...  \n",
       "4998  ah! it's just another wasted mornin'  \\r while...  \n",
       "4999  [repeat: x4]  \\r mm mm  \\r   \\r some humans ai...  \n",
       "\n",
       "[5000 rows x 3 columns]"
      ]
     },
     "execution_count": 23,
     "metadata": {},
     "output_type": "execute_result"
    }
   ],
   "source": [
    "df"
   ]
  },
  {
   "cell_type": "code",
   "execution_count": 24,
   "id": "ceac3aab-308e-448a-9cef-d5c438f39eb2",
   "metadata": {},
   "outputs": [
    {
     "data": {
      "text/html": [
       "<div>\n",
       "<style scoped>\n",
       "    .dataframe tbody tr th:only-of-type {\n",
       "        vertical-align: middle;\n",
       "    }\n",
       "\n",
       "    .dataframe tbody tr th {\n",
       "        vertical-align: top;\n",
       "    }\n",
       "\n",
       "    .dataframe thead th {\n",
       "        text-align: right;\n",
       "    }\n",
       "</style>\n",
       "<table border=\"1\" class=\"dataframe\">\n",
       "  <thead>\n",
       "    <tr style=\"text-align: right;\">\n",
       "      <th></th>\n",
       "      <th>artist</th>\n",
       "      <th>song</th>\n",
       "      <th>text</th>\n",
       "    </tr>\n",
       "  </thead>\n",
       "  <tbody>\n",
       "    <tr>\n",
       "      <th>4995</th>\n",
       "      <td>Peter Tosh</td>\n",
       "      <td>Where You Gonna Run</td>\n",
       "      <td>where you gonna run  \\r where you gonna hide  ...</td>\n",
       "    </tr>\n",
       "    <tr>\n",
       "      <th>4996</th>\n",
       "      <td>Ocean Colour Scene</td>\n",
       "      <td>If I Gave You My Heart</td>\n",
       "      <td>if i gave you my heart  \\r where would you be ...</td>\n",
       "    </tr>\n",
       "    <tr>\n",
       "      <th>4997</th>\n",
       "      <td>One Direction</td>\n",
       "      <td>Heart Attack</td>\n",
       "      <td>baby, you got me sick  \\r i don't know what i ...</td>\n",
       "    </tr>\n",
       "    <tr>\n",
       "      <th>4998</th>\n",
       "      <td>Waylon Jennings</td>\n",
       "      <td>I'll Find It Where I Can</td>\n",
       "      <td>ah! it's just another wasted mornin'  \\r while...</td>\n",
       "    </tr>\n",
       "    <tr>\n",
       "      <th>4999</th>\n",
       "      <td>John Prine</td>\n",
       "      <td>Some Humans Ain't Human</td>\n",
       "      <td>[repeat: x4]  \\r mm mm  \\r   \\r some humans ai...</td>\n",
       "    </tr>\n",
       "  </tbody>\n",
       "</table>\n",
       "</div>"
      ],
      "text/plain": [
       "                  artist                      song  \\\n",
       "4995          Peter Tosh       Where You Gonna Run   \n",
       "4996  Ocean Colour Scene    If I Gave You My Heart   \n",
       "4997       One Direction              Heart Attack   \n",
       "4998     Waylon Jennings  I'll Find It Where I Can   \n",
       "4999          John Prine   Some Humans Ain't Human   \n",
       "\n",
       "                                                   text  \n",
       "4995  where you gonna run  \\r where you gonna hide  ...  \n",
       "4996  if i gave you my heart  \\r where would you be ...  \n",
       "4997  baby, you got me sick  \\r i don't know what i ...  \n",
       "4998  ah! it's just another wasted mornin'  \\r while...  \n",
       "4999  [repeat: x4]  \\r mm mm  \\r   \\r some humans ai...  "
      ]
     },
     "execution_count": 24,
     "metadata": {},
     "output_type": "execute_result"
    }
   ],
   "source": [
    "df.tail(5)"
   ]
  },
  {
   "cell_type": "code",
   "execution_count": 25,
   "id": "0feb8a34-4355-4f9a-bdf6-a2efa74c5ee9",
   "metadata": {},
   "outputs": [],
   "source": [
    "import nltk\n",
    "from nltk.stem.porter import PorterStemmer"
   ]
  },
  {
   "cell_type": "code",
   "execution_count": 26,
   "id": "10b8671b-1720-431d-b2fc-dc39381a81cc",
   "metadata": {},
   "outputs": [],
   "source": [
    "stemmer = PorterStemmer()"
   ]
  },
  {
   "cell_type": "code",
   "execution_count": 27,
   "id": "371182f0-23d1-4efd-ae81-36645da50d72",
   "metadata": {},
   "outputs": [],
   "source": [
    "def token(txt):\n",
    "    token = ntk.word_tokeniz(txt)\n",
    "    a = [stemmer.stem(w) for w in token]"
   ]
  },
  {
   "cell_type": "code",
   "execution_count": 28,
   "id": "82fda055-034b-436f-92f7-0b42e440d511",
   "metadata": {},
   "outputs": [],
   "source": [
    "def token(txt):\n",
    "    token = nltk.word_tokenize(txt)\n",
    "    a = [stemmer.stem(w) for w in token]"
   ]
  },
  {
   "cell_type": "code",
   "execution_count": 29,
   "id": "4fb0a5d8-86ff-4c4f-b2e1-275edd524512",
   "metadata": {},
   "outputs": [],
   "source": [
    "def token(txt):\n",
    "    token = nltk.word_tokenize(txt)\n",
    "    a = [stemmer.stem(w) for w in token]\n",
    "    return \" \".join(a)"
   ]
  },
  {
   "cell_type": "code",
   "execution_count": 31,
   "id": "78bab269-651f-4e80-98d6-52f0bb936ab2",
   "metadata": {},
   "outputs": [
    {
     "data": {
      "text/plain": [
       "'you are beauti , beauti'"
      ]
     },
     "execution_count": 31,
     "metadata": {},
     "output_type": "execute_result"
    }
   ],
   "source": [
    "token(\"you are beautiful, beauty\")"
   ]
  },
  {
   "cell_type": "code",
   "execution_count": 32,
   "id": "afd3fff8-e427-4b1e-a32a-fd6ba4c3ccef",
   "metadata": {},
   "outputs": [
    {
     "data": {
      "text/plain": [
       "'you are beauti , beauti'"
      ]
     },
     "execution_count": 32,
     "metadata": {},
     "output_type": "execute_result"
    }
   ],
   "source": [
    "token(\"you are beautiful, beauty\")"
   ]
  },
  {
   "cell_type": "code",
   "execution_count": 33,
   "id": "b950ccc0-059c-4cbc-9bf1-506267128e0a",
   "metadata": {},
   "outputs": [
    {
     "data": {
      "text/plain": [
       "'you are beauti , beauti'"
      ]
     },
     "execution_count": 33,
     "metadata": {},
     "output_type": "execute_result"
    }
   ],
   "source": [
    "token(\"you are beautiful, beauty\")"
   ]
  },
  {
   "cell_type": "code",
   "execution_count": 34,
   "id": "81467a79-ba96-416d-8598-e14e8e55bfeb",
   "metadata": {},
   "outputs": [],
   "source": [
    "import nltk\n",
    "from nltk.stem import PorterStemmer\n",
    "from nltk.tokenize import word_tokenize"
   ]
  },
  {
   "cell_type": "code",
   "execution_count": 35,
   "id": "d1cb9395-d3c8-4377-a6da-b7011e83d8ce",
   "metadata": {},
   "outputs": [
    {
     "name": "stderr",
     "output_type": "stream",
     "text": [
      "[nltk_data] Downloading package punkt to\n",
      "[nltk_data]     C:\\Users\\DELL\\AppData\\Roaming\\nltk_data...\n",
      "[nltk_data]   Package punkt is already up-to-date!\n"
     ]
    },
    {
     "data": {
      "text/plain": [
       "True"
      ]
     },
     "execution_count": 35,
     "metadata": {},
     "output_type": "execute_result"
    }
   ],
   "source": [
    "nltk.download('punkt')"
   ]
  },
  {
   "cell_type": "code",
   "execution_count": 36,
   "id": "45df8517-b3c2-4b29-9c05-68872456276c",
   "metadata": {},
   "outputs": [],
   "source": [
    "stemmer = PorterStemmer()"
   ]
  },
  {
   "cell_type": "code",
   "execution_count": 37,
   "id": "5df82447-88fb-4993-9744-19b196fafb1f",
   "metadata": {},
   "outputs": [],
   "source": [
    "def token(txt):\n",
    "    token = nltk.word_tokenize(txt)\n",
    "    a = [stemmer.stem(w) for w in token]\n",
    "    return \" \".join(a)"
   ]
  },
  {
   "cell_type": "code",
   "execution_count": 38,
   "id": "8193b96b-afde-4d1f-b0cd-7b6e5e3b15ba",
   "metadata": {},
   "outputs": [
    {
     "data": {
      "text/plain": [
       "'you are beauti , beauti'"
      ]
     },
     "execution_count": 38,
     "metadata": {},
     "output_type": "execute_result"
    }
   ],
   "source": [
    "token(\"you are beautiful, beauty\")"
   ]
  },
  {
   "cell_type": "code",
   "execution_count": 39,
   "id": "b7e6515a-de3c-411c-94cf-421b02a6d0cd",
   "metadata": {},
   "outputs": [
    {
     "name": "stderr",
     "output_type": "stream",
     "text": [
      "[nltk_data] Downloading package punkt to\n",
      "[nltk_data]     C:\\Users\\DELL\\AppData\\Roaming\\nltk_data...\n",
      "[nltk_data]   Package punkt is already up-to-date!\n"
     ]
    },
    {
     "data": {
      "text/plain": [
       "True"
      ]
     },
     "execution_count": 39,
     "metadata": {},
     "output_type": "execute_result"
    }
   ],
   "source": [
    "import nltk\n",
    "nltk.download('punkt')"
   ]
  },
  {
   "cell_type": "code",
   "execution_count": 40,
   "id": "6518d203-06bb-4fd6-8314-2efc330c0761",
   "metadata": {},
   "outputs": [],
   "source": [
    "from nltk.stem import PorterStemmer"
   ]
  },
  {
   "cell_type": "code",
   "execution_count": 41,
   "id": "e99d2788-407d-4a1a-a5db-3803b8a23013",
   "metadata": {},
   "outputs": [],
   "source": [
    "from nltk.tokenize import word_tokenize"
   ]
  },
  {
   "cell_type": "code",
   "execution_count": 42,
   "id": "8691ad5a-25f6-4b5a-a2b8-827f1f551325",
   "metadata": {},
   "outputs": [],
   "source": [
    "stemmer = PorterStemmer()"
   ]
  },
  {
   "cell_type": "code",
   "execution_count": 43,
   "id": "7e9737c1-9cd8-41b9-aa3e-c6270663be5f",
   "metadata": {},
   "outputs": [],
   "source": [
    "def token(txt):\n",
    "    tokens = word_tokenize(txt)\n",
    "    stems = [stemmer.stem(w) for w in tokens]\n",
    "    return \" \".join(stems)"
   ]
  },
  {
   "cell_type": "code",
   "execution_count": 44,
   "id": "7a2f90dc-3f7f-421c-afe2-2f389fad6033",
   "metadata": {},
   "outputs": [
    {
     "name": "stdout",
     "output_type": "stream",
     "text": [
      "you are beauti , beauti\n"
     ]
    }
   ],
   "source": [
    "print(token(\"you are beautiful, beauty\"))"
   ]
  },
  {
   "cell_type": "code",
   "execution_count": 45,
   "id": "96b2d280-8653-4ce7-b22f-793cc8fc782e",
   "metadata": {},
   "outputs": [
    {
     "name": "stdout",
     "output_type": "stream",
     "text": [
      "Found existing installation: nltk 3.9.1\n",
      "Uninstalling nltk-3.9.1:\n",
      "  Successfully uninstalled nltk-3.9.1\n"
     ]
    }
   ],
   "source": [
    "!pip uninstall nltk -y"
   ]
  },
  {
   "cell_type": "code",
   "execution_count": 46,
   "id": "b76342d4-235d-401a-b1e5-782d4d9ded93",
   "metadata": {},
   "outputs": [
    {
     "name": "stderr",
     "output_type": "stream",
     "text": [
      "WARNING: Skipping nltk as it is not installed.\n"
     ]
    }
   ],
   "source": [
    "!pip uninstall nltk -y"
   ]
  },
  {
   "cell_type": "code",
   "execution_count": 47,
   "id": "9889c36d-f90a-4e01-a17b-c1c53bb34b56",
   "metadata": {},
   "outputs": [
    {
     "name": "stdout",
     "output_type": "stream",
     "text": [
      "Collecting nltk\n",
      "  Using cached nltk-3.9.1-py3-none-any.whl.metadata (2.9 kB)\n",
      "Requirement already satisfied: click in d:\\anna\\lib\\site-packages (from nltk) (8.1.7)\n",
      "Requirement already satisfied: joblib in d:\\anna\\lib\\site-packages (from nltk) (1.4.2)\n",
      "Requirement already satisfied: regex>=2021.8.3 in d:\\anna\\lib\\site-packages (from nltk) (2024.9.11)\n",
      "Requirement already satisfied: tqdm in d:\\anna\\lib\\site-packages (from nltk) (4.66.5)\n",
      "Requirement already satisfied: colorama in d:\\anna\\lib\\site-packages (from click->nltk) (0.4.6)\n",
      "Using cached nltk-3.9.1-py3-none-any.whl (1.5 MB)\n",
      "Installing collected packages: nltk\n",
      "Successfully installed nltk-3.9.1\n"
     ]
    }
   ],
   "source": [
    "!pip install nltk --upgrade"
   ]
  },
  {
   "cell_type": "code",
   "execution_count": 48,
   "id": "c36facc9-c8a0-4839-8453-171b5245c880",
   "metadata": {},
   "outputs": [
    {
     "name": "stderr",
     "output_type": "stream",
     "text": [
      "[nltk_data] Downloading package punkt to\n",
      "[nltk_data]     C:\\Users\\DELL\\AppData\\Roaming\\nltk_data...\n",
      "[nltk_data]   Package punkt is already up-to-date!\n"
     ]
    },
    {
     "data": {
      "text/plain": [
       "True"
      ]
     },
     "execution_count": 48,
     "metadata": {},
     "output_type": "execute_result"
    }
   ],
   "source": [
    "import nltk\n",
    "nltk.download('punkt')"
   ]
  },
  {
   "cell_type": "code",
   "execution_count": 49,
   "id": "7194e922-cd49-44ab-8624-b4748a0703c1",
   "metadata": {},
   "outputs": [
    {
     "name": "stdout",
     "output_type": "stream",
     "text": [
      "you are beauti , beauti\n"
     ]
    }
   ],
   "source": [
    "from nltk.tokenize import word_tokenize\n",
    "from nltk.stem import PorterStemmer\n",
    "\n",
    "stemmer = PorterStemmer()\n",
    "\n",
    "def token(txt):\n",
    "    tokens = word_tokenize(txt)\n",
    "    stems = [stemmer.stem(w) for w in tokens]\n",
    "    return \" \".join(stems)\n",
    "\n",
    "print(token(\"you are beautiful, beauty\"))"
   ]
  },
  {
   "cell_type": "code",
   "execution_count": 50,
   "id": "3345154a-1b4c-47a6-b52a-eed2a519dc1e",
   "metadata": {},
   "outputs": [
    {
     "name": "stderr",
     "output_type": "stream",
     "text": [
      "[nltk_data] Downloading package punkt to\n",
      "[nltk_data]     C:\\Users\\DELL\\AppData\\Roaming\\nltk_data...\n",
      "[nltk_data]   Package punkt is already up-to-date!\n"
     ]
    },
    {
     "data": {
      "text/plain": [
       "True"
      ]
     },
     "execution_count": 50,
     "metadata": {},
     "output_type": "execute_result"
    }
   ],
   "source": [
    "import nltk\n",
    "nltk.download('punkt')"
   ]
  },
  {
   "cell_type": "code",
   "execution_count": 51,
   "id": "db5381ab-7962-4225-a09c-ef6a1ea0d0b3",
   "metadata": {},
   "outputs": [
    {
     "name": "stdout",
     "output_type": "stream",
     "text": [
      "you are beauti , beauti\n"
     ]
    }
   ],
   "source": [
    "from nltk.tokenize import word_tokenize\n",
    "from nltk.stem import PorterStemmer\n",
    "\n",
    "stemmer = PorterStemmer()\n",
    "\n",
    "def token(txt):\n",
    "    tokens = word_tokenize(txt)\n",
    "    stems = [stemmer.stem(w) for w in tokens]\n",
    "    return \" \".join(stems)\n",
    "\n",
    "print(token(\"you are beautiful, beauty\"))"
   ]
  },
  {
   "cell_type": "code",
   "execution_count": 52,
   "id": "1517c52a-7bcf-4e3e-85c2-784e7bb63a51",
   "metadata": {},
   "outputs": [
    {
     "name": "stderr",
     "output_type": "stream",
     "text": [
      "[nltk_data] Downloading package punkt_tab to\n",
      "[nltk_data]     C:\\Users\\DELL\\AppData\\Roaming\\nltk_data...\n",
      "[nltk_data]   Package punkt_tab is already up-to-date!\n"
     ]
    },
    {
     "data": {
      "text/plain": [
       "True"
      ]
     },
     "execution_count": 52,
     "metadata": {},
     "output_type": "execute_result"
    }
   ],
   "source": [
    "import nltk\n",
    "nltk.download('punkt_tab')"
   ]
  },
  {
   "cell_type": "code",
   "execution_count": 53,
   "id": "0231aac1-9d19-4fe2-9c63-2d2d6da5876f",
   "metadata": {},
   "outputs": [
    {
     "name": "stdout",
     "output_type": "stream",
     "text": [
      "you are beauti , beauti\n"
     ]
    }
   ],
   "source": [
    "from nltk.tokenize import word_tokenize\n",
    "from nltk.stem import PorterStemmer\n",
    "\n",
    "stemmer = PorterStemmer()\n",
    "\n",
    "def token(txt):\n",
    "    tokens = word_tokenize(txt)\n",
    "    stems = [stemmer.stem(w) for w in tokens]\n",
    "    return \" \".join(stems)\n",
    "\n",
    "print(token(\"you are beautiful, beauty\"))"
   ]
  },
  {
   "cell_type": "code",
   "execution_count": 54,
   "id": "6fcb548d-42c9-49a4-96cf-60104b87d73f",
   "metadata": {},
   "outputs": [
    {
     "data": {
      "text/plain": [
       "'you are beauti , beauti'"
      ]
     },
     "execution_count": 54,
     "metadata": {},
     "output_type": "execute_result"
    }
   ],
   "source": [
    "def token(txt):\n",
    "    token = nltk.word_tokenize(txt)\n",
    "    a = [stemmer.stem(w) for w in token]\n",
    "    return \" \".join(a)\n",
    "\n",
    "token(\"you are beautiful, beauty\")"
   ]
  },
  {
   "cell_type": "code",
   "execution_count": 55,
   "id": "8a80979c-3ddb-40af-8d4b-e319d1e6d3fd",
   "metadata": {},
   "outputs": [
    {
     "data": {
      "text/plain": [
       "0       dee-goo-pee-oo-poo ta-dan ! bad conscienc : do...\n",
       "1       [ first man : ] i think , i think i am , there...\n",
       "2       hous ice in whitewash guard a pale shore-lin c...\n",
       "3       you do n't , know me you ca n't , hold me i 'l...\n",
       "4       the night is so wild and downstair the child i...\n",
       "                              ...                        \n",
       "4995    where you gon na run where you gon na hide who...\n",
       "4996    if i gave you my heart where would you be woul...\n",
       "4997    babi , you got me sick i do n't know what i di...\n",
       "4998    ah ! it 's just anoth wast mornin ' while i 'm...\n",
       "4999    [ repeat : x4 ] mm mm some human ai n't human ...\n",
       "Name: text, Length: 5000, dtype: object"
      ]
     },
     "execution_count": 55,
     "metadata": {},
     "output_type": "execute_result"
    }
   ],
   "source": [
    "df['text'].apply(lambda x: token(x))"
   ]
  },
  {
   "cell_type": "code",
   "execution_count": 56,
   "id": "97cbed8b-7c45-4e7e-9f0e-fc51c6170600",
   "metadata": {},
   "outputs": [],
   "source": [
    "from sklearn.feature_extraction.text import TfidfVectorizer\n",
    "from sklearn.metrics.pairwise import cosine_similarity"
   ]
  },
  {
   "cell_type": "code",
   "execution_count": 57,
   "id": "a6710929-e30b-4a22-b349-57b22e94ddf4",
   "metadata": {},
   "outputs": [],
   "source": [
    "tfid = TfidfVectorizer(analyzer='word', stop_words='english')"
   ]
  },
  {
   "cell_type": "code",
   "execution_count": 58,
   "id": "02e0efc4-d6b4-440d-b9d4-296393811fff",
   "metadata": {},
   "outputs": [],
   "source": [
    "matrix = tfid.fit_transform(df[\"text\"])"
   ]
  },
  {
   "cell_type": "code",
   "execution_count": 59,
   "id": "7b8f5dcc-00bc-4b8d-b382-6bafb9ddb9aa",
   "metadata": {},
   "outputs": [
    {
     "data": {
      "text/plain": [
       "<5000x23486 sparse matrix of type '<class 'numpy.float64'>'\n",
       "\twith 266717 stored elements in Compressed Sparse Row format>"
      ]
     },
     "execution_count": 59,
     "metadata": {},
     "output_type": "execute_result"
    }
   ],
   "source": [
    "matrix"
   ]
  },
  {
   "cell_type": "code",
   "execution_count": 60,
   "id": "be2c9a16-42a2-4587-9e71-7e425bc9ba8f",
   "metadata": {},
   "outputs": [],
   "source": [
    "similar = cosine_similarity(matrix)"
   ]
  },
  {
   "cell_type": "code",
   "execution_count": 61,
   "id": "d7af51da-3698-48c7-a74e-7d70d9adf1d1",
   "metadata": {},
   "outputs": [
    {
     "data": {
      "text/plain": [
       "array([[1.00000000e+00, 9.29492180e-03, 0.00000000e+00, ...,\n",
       "        5.52031961e-03, 0.00000000e+00, 1.06996084e-02],\n",
       "       [9.29492180e-03, 1.00000000e+00, 8.88714518e-03, ...,\n",
       "        7.01384731e-03, 1.30185593e-03, 7.33127737e-04],\n",
       "       [0.00000000e+00, 8.88714518e-03, 1.00000000e+00, ...,\n",
       "        1.03570499e-03, 1.94374339e-02, 4.27409517e-03],\n",
       "       ...,\n",
       "       [5.52031961e-03, 7.01384731e-03, 1.03570499e-03, ...,\n",
       "        1.00000000e+00, 2.20776531e-02, 1.39627877e-02],\n",
       "       [0.00000000e+00, 1.30185593e-03, 1.94374339e-02, ...,\n",
       "        2.20776531e-02, 1.00000000e+00, 1.03586650e-02],\n",
       "       [1.06996084e-02, 7.33127737e-04, 4.27409517e-03, ...,\n",
       "        1.39627877e-02, 1.03586650e-02, 1.00000000e+00]])"
      ]
     },
     "execution_count": 61,
     "metadata": {},
     "output_type": "execute_result"
    }
   ],
   "source": [
    "similar"
   ]
  },
  {
   "cell_type": "code",
   "execution_count": 62,
   "id": "4c43d7b9-fb86-4e62-9688-9cb5a4ffcb5d",
   "metadata": {},
   "outputs": [
    {
     "data": {
      "text/plain": [
       "array([1.        , 0.00929492, 0.        , ..., 0.00552032, 0.        ,\n",
       "       0.01069961])"
      ]
     },
     "execution_count": 62,
     "metadata": {},
     "output_type": "execute_result"
    }
   ],
   "source": [
    "similar[0]"
   ]
  },
  {
   "cell_type": "code",
   "execution_count": 63,
   "id": "02253e29-b3d2-4cf1-9ef9-07985d20e9a9",
   "metadata": {},
   "outputs": [
    {
     "ename": "IndexError",
     "evalue": "index 0 is out of bounds for axis 0 with size 0",
     "output_type": "error",
     "traceback": [
      "\u001b[1;31m---------------------------------------------------------------------------\u001b[0m",
      "\u001b[1;31mIndexError\u001b[0m                                Traceback (most recent call last)",
      "Cell \u001b[1;32mIn[63], line 1\u001b[0m\n\u001b[1;32m----> 1\u001b[0m df[df[\u001b[38;5;124m'\u001b[39m\u001b[38;5;124msong\u001b[39m\u001b[38;5;124m'\u001b[39m]\u001b[38;5;241m==\u001b[39m\u001b[38;5;124m'\u001b[39m\u001b[38;5;124mWaiting For The Man\u001b[39m\u001b[38;5;124m'\u001b[39m]\u001b[38;5;241m.\u001b[39mindex[\u001b[38;5;241m0\u001b[39m]\n",
      "File \u001b[1;32mD:\\anna\\Lib\\site-packages\\pandas\\core\\indexes\\base.py:5389\u001b[0m, in \u001b[0;36mIndex.__getitem__\u001b[1;34m(self, key)\u001b[0m\n\u001b[0;32m   5386\u001b[0m \u001b[38;5;28;01mif\u001b[39;00m is_integer(key) \u001b[38;5;129;01mor\u001b[39;00m is_float(key):\n\u001b[0;32m   5387\u001b[0m     \u001b[38;5;66;03m# GH#44051 exclude bool, which would return a 2d ndarray\u001b[39;00m\n\u001b[0;32m   5388\u001b[0m     key \u001b[38;5;241m=\u001b[39m com\u001b[38;5;241m.\u001b[39mcast_scalar_indexer(key)\n\u001b[1;32m-> 5389\u001b[0m     \u001b[38;5;28;01mreturn\u001b[39;00m getitem(key)\n\u001b[0;32m   5391\u001b[0m \u001b[38;5;28;01mif\u001b[39;00m \u001b[38;5;28misinstance\u001b[39m(key, \u001b[38;5;28mslice\u001b[39m):\n\u001b[0;32m   5392\u001b[0m     \u001b[38;5;66;03m# This case is separated from the conditional above to avoid\u001b[39;00m\n\u001b[0;32m   5393\u001b[0m     \u001b[38;5;66;03m# pessimization com.is_bool_indexer and ndim checks.\u001b[39;00m\n\u001b[0;32m   5394\u001b[0m     \u001b[38;5;28;01mreturn\u001b[39;00m \u001b[38;5;28mself\u001b[39m\u001b[38;5;241m.\u001b[39m_getitem_slice(key)\n",
      "\u001b[1;31mIndexError\u001b[0m: index 0 is out of bounds for axis 0 with size 0"
     ]
    }
   ],
   "source": [
    "df[df['song']=='Waiting For The Man'].index[0]"
   ]
  },
  {
   "cell_type": "markdown",
   "id": "c5699d26-f3cc-4bfd-9989-f16e89cf2609",
   "metadata": {},
   "source": [
    "Recommender Function"
   ]
  },
  {
   "cell_type": "code",
   "execution_count": 64,
   "id": "b25234a8-e239-4c51-97ea-3e1d4a45556d",
   "metadata": {},
   "outputs": [],
   "source": [
    "def recommender(song_name):\n",
    "    idx = df[df['song']==song_name].index[0]\n",
    "    distance = sorted(list(enumerate(similar[idx])), reverse=True, key= lambda x:x[1])\n",
    "    song = []\n",
    "    for s_id in distance[1:21]:\n",
    "        song.append(df.iloc[s_id[0]].song)\n",
    "    return song"
   ]
  },
  {
   "cell_type": "code",
   "execution_count": 65,
   "id": "6e2e46e7-3e54-4249-b3fd-8e279ec6f786",
   "metadata": {},
   "outputs": [
    {
     "ename": "IndexError",
     "evalue": "index 0 is out of bounds for axis 0 with size 0",
     "output_type": "error",
     "traceback": [
      "\u001b[1;31m---------------------------------------------------------------------------\u001b[0m",
      "\u001b[1;31mIndexError\u001b[0m                                Traceback (most recent call last)",
      "Cell \u001b[1;32mIn[65], line 1\u001b[0m\n\u001b[1;32m----> 1\u001b[0m recommender(\u001b[38;5;124m\"\u001b[39m\u001b[38;5;124mGod Will\u001b[39m\u001b[38;5;124m\"\u001b[39m)\n",
      "Cell \u001b[1;32mIn[64], line 2\u001b[0m, in \u001b[0;36mrecommender\u001b[1;34m(song_name)\u001b[0m\n\u001b[0;32m      1\u001b[0m \u001b[38;5;28;01mdef\u001b[39;00m \u001b[38;5;21mrecommender\u001b[39m(song_name):\n\u001b[1;32m----> 2\u001b[0m     idx \u001b[38;5;241m=\u001b[39m df[df[\u001b[38;5;124m'\u001b[39m\u001b[38;5;124msong\u001b[39m\u001b[38;5;124m'\u001b[39m]\u001b[38;5;241m==\u001b[39msong_name]\u001b[38;5;241m.\u001b[39mindex[\u001b[38;5;241m0\u001b[39m]\n\u001b[0;32m      3\u001b[0m     distance \u001b[38;5;241m=\u001b[39m \u001b[38;5;28msorted\u001b[39m(\u001b[38;5;28mlist\u001b[39m(\u001b[38;5;28menumerate\u001b[39m(similar[idx])), reverse\u001b[38;5;241m=\u001b[39m\u001b[38;5;28;01mTrue\u001b[39;00m, key\u001b[38;5;241m=\u001b[39m \u001b[38;5;28;01mlambda\u001b[39;00m x:x[\u001b[38;5;241m1\u001b[39m])\n\u001b[0;32m      4\u001b[0m     song \u001b[38;5;241m=\u001b[39m []\n",
      "File \u001b[1;32mD:\\anna\\Lib\\site-packages\\pandas\\core\\indexes\\base.py:5389\u001b[0m, in \u001b[0;36mIndex.__getitem__\u001b[1;34m(self, key)\u001b[0m\n\u001b[0;32m   5386\u001b[0m \u001b[38;5;28;01mif\u001b[39;00m is_integer(key) \u001b[38;5;129;01mor\u001b[39;00m is_float(key):\n\u001b[0;32m   5387\u001b[0m     \u001b[38;5;66;03m# GH#44051 exclude bool, which would return a 2d ndarray\u001b[39;00m\n\u001b[0;32m   5388\u001b[0m     key \u001b[38;5;241m=\u001b[39m com\u001b[38;5;241m.\u001b[39mcast_scalar_indexer(key)\n\u001b[1;32m-> 5389\u001b[0m     \u001b[38;5;28;01mreturn\u001b[39;00m getitem(key)\n\u001b[0;32m   5391\u001b[0m \u001b[38;5;28;01mif\u001b[39;00m \u001b[38;5;28misinstance\u001b[39m(key, \u001b[38;5;28mslice\u001b[39m):\n\u001b[0;32m   5392\u001b[0m     \u001b[38;5;66;03m# This case is separated from the conditional above to avoid\u001b[39;00m\n\u001b[0;32m   5393\u001b[0m     \u001b[38;5;66;03m# pessimization com.is_bool_indexer and ndim checks.\u001b[39;00m\n\u001b[0;32m   5394\u001b[0m     \u001b[38;5;28;01mreturn\u001b[39;00m \u001b[38;5;28mself\u001b[39m\u001b[38;5;241m.\u001b[39m_getitem_slice(key)\n",
      "\u001b[1;31mIndexError\u001b[0m: index 0 is out of bounds for axis 0 with size 0"
     ]
    }
   ],
   "source": [
    "recommender(\"God Will\")"
   ]
  },
  {
   "cell_type": "markdown",
   "id": "5ea5da2f-ec7e-4cc1-849d-80569015f5ad",
   "metadata": {},
   "source": [
    "User Interface"
   ]
  },
  {
   "cell_type": "code",
   "execution_count": 66,
   "id": "af649376-969d-4f13-aa86-416f5796a20f",
   "metadata": {},
   "outputs": [],
   "source": [
    "import pickle"
   ]
  },
  {
   "cell_type": "code",
   "execution_count": 68,
   "id": "8c2fcf58-cd8c-42b6-931c-1730282d453e",
   "metadata": {},
   "outputs": [],
   "source": [
    "import pickle\n",
    "pickle.dump(similar,open('similarity.pkl','wb'))\n",
    "pickle.dump(df,open('df.pkl','wb'))"
   ]
  },
  {
   "cell_type": "code",
   "execution_count": null,
   "id": "1ac36205-8764-4c80-ad03-17b8d880c388",
   "metadata": {},
   "outputs": [],
   "source": []
  }
 ],
 "metadata": {
  "kernelspec": {
   "display_name": "Python 3 (ipykernel)",
   "language": "python",
   "name": "python3"
  },
  "language_info": {
   "codemirror_mode": {
    "name": "ipython",
    "version": 3
   },
   "file_extension": ".py",
   "mimetype": "text/x-python",
   "name": "python",
   "nbconvert_exporter": "python",
   "pygments_lexer": "ipython3",
   "version": "3.12.7"
  }
 },
 "nbformat": 4,
 "nbformat_minor": 5
}
